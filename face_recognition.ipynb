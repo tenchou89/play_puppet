{
 "metadata": {
  "language_info": {
   "codemirror_mode": {
    "name": "ipython",
    "version": 3
   },
   "file_extension": ".py",
   "mimetype": "text/x-python",
   "name": "python",
   "nbconvert_exporter": "python",
   "pygments_lexer": "ipython3",
   "version": "3.6.12"
  },
  "orig_nbformat": 2,
  "kernelspec": {
   "name": "python3612jvsc74a57bd05a49a43dbdc81075b29e5ecd09eb50057293e35818ee42103cfdfdfc359e5918",
   "display_name": "Python 3.6.12 64-bit ('tensorflow2_x': conda)"
  }
 },
 "nbformat": 4,
 "nbformat_minor": 2,
 "cells": [
  {
   "cell_type": "code",
   "execution_count": 1,
   "metadata": {
    "tags": []
   },
   "outputs": [
    {
     "output_type": "stream",
     "name": "stdout",
     "text": [
      "[[568 474 231 231]]\n[x,y] = 568,474 [w,h] = 231,231\n-0.6084691524505615\n"
     ]
    },
    {
     "output_type": "error",
     "ename": "ValueError",
     "evalue": "sleep length must be non-negative",
     "traceback": [
      "\u001b[1;31m---------------------------------------------------------------------------\u001b[0m",
      "\u001b[1;31mValueError\u001b[0m                                Traceback (most recent call last)",
      "\u001b[1;32m<ipython-input-1-5ae58501a0ac>\u001b[0m in \u001b[0;36m<module>\u001b[1;34m\u001b[0m\n\u001b[0;32m     41\u001b[0m     \u001b[0mprint\u001b[0m\u001b[1;33m(\u001b[0m\u001b[0msleep_secs\u001b[0m\u001b[1;33m)\u001b[0m\u001b[1;33m\u001b[0m\u001b[1;33m\u001b[0m\u001b[0m\n\u001b[0;32m     42\u001b[0m     \u001b[1;31m# assert sleep_secs > 0, 'nooooo'\u001b[0m\u001b[1;33m\u001b[0m\u001b[1;33m\u001b[0m\u001b[1;33m\u001b[0m\u001b[0m\n\u001b[1;32m---> 43\u001b[1;33m     \u001b[0mtime\u001b[0m\u001b[1;33m.\u001b[0m\u001b[0msleep\u001b[0m\u001b[1;33m(\u001b[0m\u001b[0msleep_secs\u001b[0m\u001b[1;33m)\u001b[0m\u001b[1;33m\u001b[0m\u001b[1;33m\u001b[0m\u001b[0m\n\u001b[0m\u001b[0;32m     44\u001b[0m     \u001b[1;31m# out.write(frame)\u001b[0m\u001b[1;33m\u001b[0m\u001b[1;33m\u001b[0m\u001b[1;33m\u001b[0m\u001b[0m\n\u001b[0;32m     45\u001b[0m     \u001b[1;32mif\u001b[0m \u001b[0mcv2\u001b[0m\u001b[1;33m.\u001b[0m\u001b[0mwaitKey\u001b[0m\u001b[1;33m(\u001b[0m\u001b[1;36m1\u001b[0m\u001b[1;33m)\u001b[0m \u001b[1;33m&\u001b[0m \u001b[1;36m0xFF\u001b[0m \u001b[1;33m==\u001b[0m \u001b[0mord\u001b[0m\u001b[1;33m(\u001b[0m\u001b[1;34m'q'\u001b[0m\u001b[1;33m)\u001b[0m\u001b[1;33m:\u001b[0m\u001b[1;33m\u001b[0m\u001b[1;33m\u001b[0m\u001b[0m\n",
      "\u001b[1;31mValueError\u001b[0m: sleep length must be non-negative"
     ]
    }
   ],
   "source": [
    "import numpy as np\n",
    "import cv2\n",
    "import time\n",
    "\n",
    "cascade_file = r\"haarcascade_frontalface_alt.xml\"\n",
    "cascade = cv2.CascadeClassifier(cascade_file)\n",
    "\n",
    "cap = cv2.VideoCapture(0)\n",
    "ret = cap.set(3, 1280)\n",
    "ret = cap.set(4, 720)\n",
    "# print('width:' + str(cap.get(3)) + ', height:' + str(cap.get(4)))\n",
    "\n",
    "scale_factor = 0.1\n",
    "size = (1280,720)\n",
    "fps = int(cap.get(cv2.CAP_PROP_FPS))\n",
    "fps = fps * scale_factor\n",
    "fourcc = cv2.VideoWriter_fourcc('m', 'p', '4', 'v')\n",
    "out = cv2.VideoWriter('output.mp4', fourcc, fps, size)\n",
    "\n",
    "while(True):\n",
    "    # start = time.time()\n",
    "    # Capture frame-by-frame\n",
    "    ret, frame = cap.read()\n",
    "\n",
    "    # Our operations on the frame come here\n",
    "    image_gray = cv2.cvtColor(frame, cv2.COLOR_BGR2GRAY)\n",
    "    front_face_list = cascade.detectMultiScale(image_gray, minSize = (30, 30))\n",
    "    print(front_face_list)\n",
    "\n",
    "    # Display the resulting frame\n",
    "    if len(front_face_list):\n",
    "        for (x,y,w,h) in front_face_list:\n",
    "            print(\"[x,y] = %d,%d [w,h] = %d,%d\" %(x, y, w, h))\n",
    "            cv2.rectangle(frame, (x,y), (x+w, y+h), (0, 0, 255), thickness=5)\n",
    "        cv2.imshow('image', frame)\n",
    "\n",
    "    else:\n",
    "        cv2.imshow('image', frame)\n",
    "        print('not detected')\n",
    "    \n",
    "    # sleep_secs = 1 / fps - (time.time() - start)\n",
    "    # print(sleep_secs)\n",
    "    # assert sleep_secs > 0, 'minusFPS'\n",
    "    # time.sleep(sleep_secs)\n",
    "    out.write(frame)\n",
    "    if cv2.waitKey(1) & 0xFF == ord('q'):\n",
    "        # When everything done, release the capture\n",
    "        break\n",
    "\n",
    "# When everything done, release the capture\n",
    "cap.release()\n",
    "out.release()\n",
    "cv2.destroyAllWindows()"
   ]
  }
 ]
}